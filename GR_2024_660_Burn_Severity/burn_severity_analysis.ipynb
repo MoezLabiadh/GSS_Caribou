{
 "cells": [
  {
   "cell_type": "code",
   "execution_count": 1,
   "metadata": {},
   "outputs": [],
   "source": [
    "# +-------------------------------------------------------------------------------------------------\n",
    "# Author:cfolkers\n",
    "# Ministry, Division, Branch: WLRS, GEOBC, Geospatial Services \n",
    "# Created Date: 2024/05/23\n",
    "# Updated Date: \n",
    "# Description: quick script to summarize burn severity in Boreal caribou herds, by herd and mgmt type\n",
    "# +-------------------------------------------------------------------------------------------------\n"
   ]
  },
  {
   "cell_type": "code",
   "execution_count": 25,
   "metadata": {},
   "outputs": [],
   "source": [
    "#import packages\n",
    "import geopandas as gpd\n",
    "import pandas as pd \n",
    "import feature_download\n",
    "from shapely.geometry import shape\n",
    "\n",
    "#call Feature downloader\n",
    "wfs = feature_download.WFS_downloader()"
   ]
  },
  {
   "cell_type": "code",
   "execution_count": 26,
   "metadata": {},
   "outputs": [],
   "source": [
    "#local variables \n",
    "pbcrp=r'/GR_2024_528/source data/incoming/BorealCaribouRecovery.gdb'\n",
    "layer='PBCPR_Cleaned'\n",
    "out_xlsx=r'/GR_2024_660/deliverables/Burn_Severity_By_Herd_MGMT.xlsx'"
   ]
  },
  {
   "cell_type": "code",
   "execution_count": null,
   "metadata": {},
   "outputs": [],
   "source": [
    "#get gdfs \n",
    "\n",
    "herd=wfs.get_data(dataset='WHSE_WILDLIFE_INVENTORY.GCPB_CARIBOU_POPULATION_SP', query=\"\"\"HERD_NUMBER IN (25,26,27,28,29)\"\"\")\n",
    "\n",
    "fire_current=wfs.get_data(dataset='WHSE_LAND_AND_NATURAL_RESOURCE.PROT_CURRENT_FIRE_POLYS_SP', \n",
    "                               query=\"\"\"FIRE_NUMBER LIKE '%G8%' AND FIRE_SIZE_HECTARES >=20 OR FIRE_NUMBER LIKE '%G9%' AND FIRE_SIZE_HECTARES >=20\"\"\")\n",
    "\n",
    "fire_hist=wfs.get_data(dataset='WHSE_LAND_AND_NATURAL_RESOURCE.PROT_HISTORICAL_FIRE_POLYS_SP',\n",
    "                            query=\"\"\"FIRE_YEAR >=2016 AND FIRE_NUMBER LIKE '%G8%' AND FIRE_SIZE_HECTARES>=20 OR \n",
    "                            FIRE_YEAR >=2016 AND FIRE_NUMBER LIKE '%G9%' AND FIRE_SIZE_HECTARES>=20 \"\"\")\n",
    "\n",
    "severity_current=wfs.get_data(dataset='WHSE_FOREST_VEGETATION.VEG_BURN_SEVERITY_SAME_YR_SP', query=\"\"\"FIRE_NUMBER LIKE '%G8%' OR\n",
    "    FIRE_NUMBER LIKE '%G9%'\"\"\")\n",
    "\n",
    "severity_hist=wfs.get_data(dataset='WHSE_FOREST_VEGETATION.VEG_BURN_SEVERITY_SP',\n",
    "                                query=\"\"\"FIRE_YEAR >=2016 AND FIRE_NUMBER LIKE '%G8%' OR FIRE_YEAR >=2016 AND FIRE_NUMBER LIKE '%G9%' \"\"\")\n",
    "\n",
    "mgmt_typ=gpd.read_file(filename=pbcrp,layer=layer)\n"
   ]
  },
  {
   "cell_type": "code",
   "execution_count": 4,
   "metadata": {},
   "outputs": [],
   "source": [
    "#change all geometry columns to the same common name \n",
    "herd.rename_geometry('geo', inplace=True)\n",
    "fire_current.rename_geometry('geo', inplace=True)\n",
    "fire_hist.rename_geometry('geo', inplace=True)\n",
    "severity_current.rename_geometry('geo', inplace=True)\n",
    "severity_hist.rename_geometry('geo', inplace=True)\n",
    "mgmt_typ.rename_geometry('geo', inplace=True)"
   ]
  },
  {
   "cell_type": "code",
   "execution_count": 5,
   "metadata": {},
   "outputs": [],
   "source": [
    "#columns to keep\n",
    "herd_cols=['HERD_NUMBER','HERD_NAME','geo']\n",
    "fire_cols=['FIRE_NUMBER','FIRE_YEAR','geo']\n",
    "severity_cols=['FIRE_NUMBER','FIRE_YEAR','BURN_SEVERITY_RATING','geo']\n",
    "mgmt_cols=['Management','geo']\n",
    "#drop columns\n",
    "herd.drop(herd.columns.difference(herd_cols), axis= 1, inplace= True)\n",
    "fire_current.drop(fire_current.columns.difference(fire_cols),axis =1, inplace= True)\n",
    "fire_hist.drop(fire_hist.columns.difference(fire_cols),axis= 1, inplace= True)\n",
    "severity_current.drop(severity_current.columns.difference(severity_cols),axis= 1, inplace= True)\n",
    "severity_hist.drop(severity_hist.columns.difference(severity_cols),axis=1, inplace= True)\n",
    "mgmt_typ.drop(mgmt_typ.columns.difference(mgmt_cols),axis=1, inplace= True)"
   ]
  },
  {
   "cell_type": "code",
   "execution_count": 6,
   "metadata": {},
   "outputs": [],
   "source": [
    "#expolde any multipart polygons into singles and ensure crs set to 3005\n",
    "herd=herd.explode(index_parts=False)\n",
    "herd=herd.set_crs(3005)\n",
    "fire_current=fire_current.explode(index_parts=False)\n",
    "fire_current=fire_current.set_crs(3005)\n",
    "fire_hist=fire_hist.explode(index_parts=False)\n",
    "fire_hist=fire_hist.set_crs(3005)\n",
    "severity_current=severity_current.explode(index_parts=False)\n",
    "severity_current=severity_current.set_crs(3005)\n",
    "severity_hist=severity_hist.explode(index_parts=False)\n",
    "severity_hist=severity_hist.set_crs(3005)\n",
    "mgmt_typ=mgmt_typ.explode(index_parts=False)\n",
    "mgmt_typ=mgmt_typ.set_crs(3005)"
   ]
  },
  {
   "cell_type": "code",
   "execution_count": 7,
   "metadata": {},
   "outputs": [],
   "source": [
    "#spatial join current and historic severity and remove any that overlap\n",
    "sev_overlap=gpd.sjoin(severity_hist, severity_current,how='inner', predicate='intersects')\n",
    "overlap_ind=sev_overlap.index\n",
    "severity_hist_clean=severity_hist.loc[~severity_hist.index.isin(overlap_ind)]"
   ]
  },
  {
   "cell_type": "code",
   "execution_count": null,
   "metadata": {},
   "outputs": [],
   "source": [
    "#check to see number of rows in cleaned and OG burn severity hist and plot to look for dif between current and hist \n",
    "print(f\"cleaned records {len(severity_hist_clean)}\")\n",
    "print(f\" OG Records {len(severity_hist)}\")\n",
    "ax=severity_current.plot(color='green')\n",
    "severity_hist_clean.plot(ax=ax, color='red')"
   ]
  },
  {
   "cell_type": "code",
   "execution_count": 12,
   "metadata": {},
   "outputs": [],
   "source": [
    "# spatial join (sjoin) herd and mgmt type\n",
    "severity_current_sjoin1=gpd.sjoin(severity_current, herd ,how='left', predicate='intersects')\n",
    "#drop index right as it can't be joined multiple times\n",
    "severity_current_sjoin1 = severity_current_sjoin1.drop(columns=['index_right'])\n",
    "severity_current_sjoin=gpd.sjoin(severity_current_sjoin1, mgmt_typ,how='left', predicate='intersects')\n"
   ]
  },
  {
   "cell_type": "code",
   "execution_count": 14,
   "metadata": {},
   "outputs": [],
   "source": [
    "# spatial join (sjoin) herd and mgmt type\n",
    "severity_hist_sjoin1=gpd.sjoin(severity_hist_clean, herd ,how='left', predicate='intersects')\n",
    "#drop index right as it can't be joined multiple times\n",
    "severity_hist_sjoin1 = severity_hist_sjoin1.drop(columns=['index_right'])\n",
    "severity_hist_sjoin=gpd.sjoin(severity_hist_sjoin1, mgmt_typ,how='left', predicate='intersects')"
   ]
  },
  {
   "cell_type": "code",
   "execution_count": null,
   "metadata": {},
   "outputs": [],
   "source": [
    "#inspect data\n",
    "severity_current_sjoin"
   ]
  },
  {
   "cell_type": "code",
   "execution_count": null,
   "metadata": {},
   "outputs": [],
   "source": [
    "#inspect\n",
    "severity_hist_sjoin"
   ]
  },
  {
   "cell_type": "code",
   "execution_count": 19,
   "metadata": {},
   "outputs": [],
   "source": [
    "#calculate area (km2)\n",
    "severity_hist_sjoin['area']=severity_hist_sjoin.area\n",
    "severity_hist_sjoin['km2']=severity_hist_sjoin['area']/1000000\n",
    "severity_current_sjoin['area']=severity_current_sjoin.area\n",
    "severity_current_sjoin['km2']=severity_current_sjoin['area']/1000000"
   ]
  },
  {
   "cell_type": "code",
   "execution_count": null,
   "metadata": {},
   "outputs": [],
   "source": [
    "#filter, not needed but good to know how to do\n",
    "filtered=severity_hist_sjoin[severity_hist_sjoin['HERD_NAME'].notnull()]\n",
    "filtered"
   ]
  },
  {
   "cell_type": "code",
   "execution_count": 29,
   "metadata": {},
   "outputs": [],
   "source": [
    "#create combined burn severity \n",
    "combined_sev=pd.concat([severity_current_sjoin,severity_hist_sjoin])"
   ]
  },
  {
   "cell_type": "code",
   "execution_count": 32,
   "metadata": {},
   "outputs": [],
   "source": [
    "#group by and sum \n",
    "hist_out=severity_hist_sjoin[['BURN_SEVERITY_RATING','Management', 'HERD_NAME','km2']].groupby(['HERD_NAME','Management','BURN_SEVERITY_RATING']).sum()\n",
    "curr_out=severity_current_sjoin[['BURN_SEVERITY_RATING','Management', 'HERD_NAME','km2']].groupby(['HERD_NAME','Management','BURN_SEVERITY_RATING']).sum()\n",
    "combined_out=combined_sev[['BURN_SEVERITY_RATING','Management', 'HERD_NAME','km2']].groupby(['HERD_NAME','Management','BURN_SEVERITY_RATING']).sum()"
   ]
  },
  {
   "cell_type": "code",
   "execution_count": null,
   "metadata": {},
   "outputs": [],
   "source": [
    "#export spreadsheet with multiple tabs \n",
    "with pd.ExcelWriter(out_xlsx) as writer:\n",
    "    curr_out.to_excel(writer, sheet_name='Current Burn Severity, index=False')\n",
    "    hist_out.to_excel(writer, sheet_name='Historic Burn Severity, index=False')\n",
    "    combined_out.to_excel(writer, sheet_name='Combined Burn Severity, index=False')\n",
    "    "
   ]
  }
 ],
 "metadata": {
  "kernelspec": {
   "display_name": "stac_tools",
   "language": "python",
   "name": "python3"
  },
  "language_info": {
   "codemirror_mode": {
    "name": "ipython",
    "version": 3
   },
   "file_extension": ".py",
   "mimetype": "text/x-python",
   "name": "python",
   "nbconvert_exporter": "python",
   "pygments_lexer": "ipython3",
   "version": "3.11.7"
  }
 },
 "nbformat": 4,
 "nbformat_minor": 2
}
